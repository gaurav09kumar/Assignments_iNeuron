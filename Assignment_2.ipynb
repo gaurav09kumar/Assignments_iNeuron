{
 "cells": [
  {
   "cell_type": "markdown",
   "metadata": {},
   "source": [
    "# Assignment 2 - iNeuron"
   ]
  },
  {
   "cell_type": "markdown",
   "metadata": {},
   "source": [
    "<b> Task 1 : </b> <br>\n",
    "<b> Problem Statement 1.1:</b> <br>\n",
    "Write a Python Program to implement your own myreduce() function which works exactly like Python's built-in function reduce()<br>\n",
    "<b>Solution:</b>"
   ]
  },
  {
   "cell_type": "code",
   "execution_count": 8,
   "metadata": {},
   "outputs": [
    {
     "name": "stdout",
     "output_type": "stream",
     "text": [
      "The sum of the numbers in the list is : 21\n",
      "Greatest number in the list is : 6\n"
     ]
    }
   ],
   "source": [
    "#declare myreduce function which accepts one parameter & returns two values i.e Sum & Greatest\n",
    "#this behaves same like Python's reduce() function\n",
    "def myReduce(z):\n",
    "    sum_result=0;\n",
    "    greatest_number=0;\n",
    "    for x in z:\n",
    "        sum_result=sum_result+x\n",
    "        if(greatest_number<x):\n",
    "            greatest_number=x\n",
    "    return sum_result,greatest_number\n",
    "\n",
    "#Call myreduce function & store the values in two different variables\n",
    "Sum,Greatest = myReduce([6,1,2,3,4,5])\n",
    "\n",
    "#print the result\n",
    "print(\"The sum of the numbers in the list is : {}\\nGreatest number in the list is : {}\".format(Sum,Greatest))"
   ]
  },
  {
   "cell_type": "markdown",
   "metadata": {},
   "source": [
    "<b> Task 1 : </b> <br>\n",
    "<b> Problem Statement 1.2:</b> <br>\n",
    "Write a Python program to implement your own myfilter() function which works exactly like \n",
    "Python's built-in function filter()<br>\n",
    "<b>Solution:</b>"
   ]
  },
  {
   "cell_type": "code",
   "execution_count": 7,
   "metadata": {},
   "outputs": [
    {
     "name": "stdout",
     "output_type": "stream",
     "text": [
      "The even numbers in the given list are : [2, 4, 6, 8]\n",
      "Vowels in the given list are : ['e', 'i', 'u']\n"
     ]
    }
   ],
   "source": [
    "#declare myfilter function which accepts two parameter's & returns two values i.e evenNumbers & vowels\n",
    "#this behaves same like Python's filter() function\n",
    "def myFilter(x,y):\n",
    "    evenNumbersList = []\n",
    "    vowelsList = []\n",
    "    for i in x:\n",
    "        if(i%2==0):\n",
    "            evenNumbersList.append(i)\n",
    "    for j in y:\n",
    "        if(j in vowels):\n",
    "            vowelsList.append(j)\n",
    "    return evenNumbersList,vowelsList\n",
    "\n",
    "#create a list with correct vowels\n",
    "vowels = ['a','e','i','o','u']\n",
    "\n",
    "#Call myfilter function & store the values in two different variables\n",
    "EvenList,VowelAlphabets = myFilter([2,4,5,6,7,8],['z','e','i','y','u'])\n",
    "\n",
    "#print the result\n",
    "print(\"The even numbers in the given list are : {}\\nVowels in the given list are : {}\".format(EvenList,VowelAlphabets))"
   ]
  },
  {
   "cell_type": "markdown",
   "metadata": {},
   "source": [
    "<b> Task 1 : </b> <br>\n",
    "<b> Problem Statement 2:</b> <br>\n",
    "Implement List comprehensions to produce the following lists. <br>\n",
    "Write List comprehensions to produce the following Lists <br>\n",
    "['x', 'xx', 'xxx', 'xxxx', 'y', 'yy', 'yyy', 'yyyy', 'z', 'zz', 'zzz', 'zzzz']<br>\n",
    "['x', 'y', 'z', 'xx', 'yy', 'zz', 'xx', 'yy', 'zz', 'xxxx', 'yyyy', 'zzzz']<br>\n",
    "[[2], [3], [4], [3], [4], [5], [4], [5], [6]]<br>\n",
    "[[2, 3, 4, 5], [3, 4, 5, 6], [4, 5, 6, 7], [5, 6, 7, 8]]<br>\n",
    "[(1, 1), (2, 1), (3, 1), (1, 2), (2, 2), (3, 2), (1, 3), (2, 3), (3, 3)]<br>\n",
    "<b>Solution:</b>"
   ]
  },
  {
   "cell_type": "code",
   "execution_count": 13,
   "metadata": {},
   "outputs": [
    {
     "name": "stdout",
     "output_type": "stream",
     "text": [
      "Desired First List : ['x', 'xx', 'xxx', 'xxxx', 'y', 'yy', 'yyy', 'yyyy', 'z', 'zz', 'zzz', 'zzzz']\n",
      "Desired Second List : ['x', 'y', 'z', 'xx', 'yy', 'zz', 'xxx', 'yyy', 'zzz', 'xxxx', 'yyyy', 'zzzz']\n",
      "Desired Third List : [[2], [3], [4], [3], [4], [5], [4], [5], [6]]\n",
      "Desired Fourth List : [[2, 3, 4, 5], [3, 4, 5, 6], [4, 5, 6, 7], [5, 6, 7, 8]]\n",
      "Desired Fifth List : [(1, 1), (2, 1), (3, 1), (1, 2), (2, 2), (3, 2), (1, 3), (2, 3), (3, 3)]\n"
     ]
    }
   ],
   "source": [
    "#Implementing the desired output using List Comprehension\n",
    "#create a list\n",
    "input_list = ['x','y','z']\n",
    "result = [ item*num for item in input_list for num in range(1,5)  ]\n",
    "print(\"Desired First List : \" +   str(result))\n",
    "\n",
    "result = [ num*item for num in range(1,5) for item in input_list  ]\n",
    "print(\"Desired Second List : \" +   str(result))\n",
    "\n",
    "#create a list\n",
    "input_list = [2,3,4]\n",
    "result = [ [item+num] for item in input_list for num in range(0,3)]\n",
    "print(\"Desired Third List : \" +  str(result))\n",
    "\n",
    "#create a list\n",
    "input_list = [2,3,4,5]\n",
    "result = [ [item+num for item in input_list] for num in range(0,4)  ]\n",
    "print(\"Desired Fourth List : \" +  str(result))\n",
    "\n",
    "#create a list\n",
    "input_list=[1,2,3]\n",
    "result = [ (b,a) for a in input_list for b in input_list]\n",
    "print(\"Desired Fifth List : \" +  str(result))\n"
   ]
  },
  {
   "cell_type": "markdown",
   "metadata": {},
   "source": [
    "<b> Task 1 : </b> <br>\n",
    "<b> Problem Statement 3:</b> <br>\n",
    "Implement a function longestWord() that takes a list of words and returns the longest one.<br>\n",
    "<b>Solution:</b>"
   ]
  },
  {
   "cell_type": "code",
   "execution_count": 14,
   "metadata": {},
   "outputs": [
    {
     "name": "stdout",
     "output_type": "stream",
     "text": [
      "The longest Word in the given list is : comprehensive\n"
     ]
    }
   ],
   "source": [
    "#declare a function which has one parameter & returns the longestword\n",
    "def longestWord(words_list):\n",
    "    result = \"\"\n",
    "    count = 0;\n",
    "    for i in words_list:\n",
    "        length_of_word = len(i)\n",
    "        if(count<length_of_word):\n",
    "            count=length_of_word\n",
    "            result=i\n",
    "    return result    \n",
    "\n",
    "#create list\n",
    "input_list = ['wordtest','comprehensive','challenge','random','test']\n",
    "\n",
    "#call the function -> pass the value & print the result\n",
    "print(\"The longest Word in the given list is : \"+str(longestWord(input_list)))"
   ]
  },
  {
   "cell_type": "markdown",
   "metadata": {},
   "source": [
    "<b> Task 2 : </b> <br>\n",
    "<b> Problem Statement 1.1:</b> <br>\n",
    "Write a Python Program(with class concepts) to find the area of the triangle using the below\n",
    "formula.<br>\n",
    "area = (s*(s-a)*(s-b)*(s-c)) ** 0.5<br>\n",
    "Function to take the length of the sides of triangle from user should be defined in the parent\n",
    "class and function to calculate the area should be defined in subclass. <br>\n",
    "<b>Solution:</b>"
   ]
  },
  {
   "cell_type": "code",
   "execution_count": 16,
   "metadata": {},
   "outputs": [
    {
     "name": "stdout",
     "output_type": "stream",
     "text": [
      "Area Of Triangle with sides 4,13,15 is : 24.0\n"
     ]
    }
   ],
   "source": [
    "#create parent class \n",
    "class ParentClass:\n",
    "  def __init__(self,a,b,c):\n",
    "    self.a = a\n",
    "    self.b = b\n",
    "    self.c = c\n",
    "\n",
    "  def AreaOfTriangle(self):\n",
    "    s=((self.a)+(self.b)+(self.c))/2\n",
    "    area = (s*(s-self.a)*(s-self.b)*(s-self.c))**0.5\n",
    "    print(\"Area Of Triangle with sides {},{},{} is : {}\".format(self.a,self.b,self.c,area))\n",
    "\n",
    "#create child class which has properties & behaviour of Parent class\n",
    "class ChildClass(ParentClass):\n",
    "    pass\n",
    "\n",
    "\n",
    "x=ChildClass(4,13,15)\n",
    "x.AreaOfTriangle()"
   ]
  },
  {
   "cell_type": "markdown",
   "metadata": {},
   "source": [
    "<b> Task 2 : </b> <br>\n",
    "<b> Problem Statement 1.2:</b> <br>\n",
    "Write a function filter_long_words() that takes a list of words and an integer n and returns the list\n",
    "of words that are longer than n.<br>\n",
    "<b>Solution:</b>"
   ]
  },
  {
   "cell_type": "code",
   "execution_count": 25,
   "metadata": {},
   "outputs": [
    {
     "name": "stdout",
     "output_type": "stream",
     "text": [
      "The words longer than 2 in ['ab', 'cde', 'erty'] are ['cde', 'erty']\n"
     ]
    }
   ],
   "source": [
    "#declare a function which takes list of words, n & returns the words longer than n\n",
    "def wordsLengthCount(input_data,num):\n",
    "    result = []\n",
    "    for i in input_data:\n",
    "        if(len(i)>num):\n",
    "            result.append(i)\n",
    "    return result\n",
    "\n",
    "#create variable\n",
    "wordList = ['ab','cde','erty']\n",
    "n=2\n",
    "\n",
    "#call the function & print the result\n",
    "print(\"The words longer than {} in {} are {}\".format(n, wordList, wordsLengthCount(wordList,n)))\n",
    "        "
   ]
  },
  {
   "cell_type": "markdown",
   "metadata": {},
   "source": [
    "<b> Task 2 : </b> <br>\n",
    "<b> Problem Statement 2.1:</b> <br>\n",
    "Write a Python program using function concept that maps list of words into a list of integers\n",
    "representing the lengths of the corresponding words.<br>\n",
    "Hint: ​If a list [ ab,cde,erty] is passed on to the python function output should come as [2,3,4]<br>\n",
    "Here 2,3 and 4 are the lengths of the words in the list.<br>\n",
    "<b>Solution:</b>"
   ]
  },
  {
   "cell_type": "code",
   "execution_count": 26,
   "metadata": {},
   "outputs": [
    {
     "name": "stdout",
     "output_type": "stream",
     "text": [
      "The lengths of the corresponding words ['ab', 'cde', 'erty'] are [2, 3, 4]: \n"
     ]
    }
   ],
   "source": [
    "#declare a function which takes list of words & returns the length of each word\n",
    "\n",
    "def wordsLengthCount(input_data):\n",
    "    result = []\n",
    "    for i in input_data:\n",
    "        result.append(len(i))\n",
    "    return result\n",
    "\n",
    "#create variable\n",
    "wordList = ['ab','cde','erty']\n",
    "\n",
    "#call the function & print the result\n",
    "print(\"The lengths of the corresponding words {} are {}: \".format(wordList, wordsLengthCount(wordList)) )\n",
    "        "
   ]
  },
  {
   "cell_type": "markdown",
   "metadata": {},
   "source": [
    "<b> Task 2 : </b> <br>\n",
    "<b> Problem Statement 2.2:</b> <br>\n",
    "Write a Python function which takes a character (i.e. a string of length 1) and returns True if it is\n",
    "a vowel, False otherwise.<br>\n",
    "<b>Solution:</b>"
   ]
  },
  {
   "cell_type": "code",
   "execution_count": 27,
   "metadata": {},
   "outputs": [
    {
     "name": "stdout",
     "output_type": "stream",
     "text": [
      "True\n",
      "False\n",
      "True\n",
      "True\n",
      "False\n"
     ]
    }
   ],
   "source": [
    "#declare a function which takes single character & returns boolean value\n",
    "def is_vowel(char):\n",
    "    all_vowels = 'aeiou'\n",
    "    return char in all_vowels\n",
    "    \n",
    "print(is_vowel('a'))\n",
    "print(is_vowel('c'))\n",
    "print(is_vowel('e'))\n",
    "print(is_vowel('u'))\n",
    "print(is_vowel('t'))"
   ]
  }
 ],
 "metadata": {
  "kernelspec": {
   "display_name": "Python 3",
   "language": "python",
   "name": "python3"
  },
  "language_info": {
   "codemirror_mode": {
    "name": "ipython",
    "version": 3
   },
   "file_extension": ".py",
   "mimetype": "text/x-python",
   "name": "python",
   "nbconvert_exporter": "python",
   "pygments_lexer": "ipython3",
   "version": "3.7.6"
  }
 },
 "nbformat": 4,
 "nbformat_minor": 4
}
