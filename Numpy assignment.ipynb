{
 "cells": [
  {
   "cell_type": "markdown",
   "metadata": {},
   "source": [
    "<b>Problem Statement 1: </b><br>Write a function so that the columns of the output matrix are powers of the input\n",
    "vector.<br>The order of the powers is determined by the increasing boolean argument. Specifically, when\n",
    "increasing is False, the i-th output column is the input vector raised element-wise to the power\n",
    "of N - i - 1.<br>HINT: Such a matrix with a geometric progression in each row is named for Alexandre-\n",
    "Theophile Vandermonde."
   ]
  },
  {
   "cell_type": "code",
   "execution_count": 4,
   "metadata": {},
   "outputs": [
    {
     "name": "stdout",
     "output_type": "stream",
     "text": [
      "The input vector is -  [1 2 3 4 5]\n",
      "Decreasing matrix - \n",
      " [[  1   1   1   1   1]\n",
      " [ 16   8   4   2   1]\n",
      " [ 81  27   9   3   1]\n",
      " [256  64  16   4   1]\n",
      " [625 125  25   5   1]]\n",
      "Increasing matrix - \n",
      " [[  1   1   1   1   1]\n",
      " [  1   2   4   8  16]\n",
      " [  1   3   9  27  81]\n",
      " [  1   4  16  64 256]\n",
      " [  1   5  25 125 625]]\n"
     ]
    }
   ],
   "source": [
    "# importing numpy as np\n",
    "import numpy as np \n",
    "  \n",
    "array_input = np.array([1, 2, 3, 4, 5])    #create & assign array data type value to variable\n",
    "  \n",
    "print(\"The input vector is - \",array_input)#print input data\n",
    "\n",
    "result = np.vander(array_input)            #vander function is used to calculate Vandermonde matrix\n",
    "#By default(increasing=False)\n",
    "print (\"Decreasing matrix - \\n\",result)    #print decreasing matrix data\n",
    "\n",
    "result = np.vander(array_input,increasing=True) \n",
    "  \n",
    "print (\"Increasing matrix - \\n\",result)    #print increasing matrix data"
   ]
  },
  {
   "cell_type": "markdown",
   "metadata": {},
   "source": [
    "<b>Problem Statement 2:</b><br>\n",
    "Given a sequence of n values x1, x2, ..., xn and a window size k>0, the k-th moving average of\n",
    "the given sequence is defined as follows:<br>\n",
    "The moving average sequence has n-k+1 elements as shown below.<br>\n",
    "The moving averages with k=4 of a ten-value sequence (n=10) is shown below<br>\n",
    "i 1 2 3 4 5 6 7 8 9 10<br>\n",
    "===== == == == == == == == == == ==<br>\n",
    "Input 10 20 30 40 50 60 70 80 90 100<br>\n",
    "y1 25 = (10+20+30+40)/4<br>\n",
    "y2 35 = (20+30+40+50)/4<br>\n",
    "y3 45 = (30+40+50+60)/4<br>\n",
    "y4 55 = (40+50+60+70)/4<br>\n",
    "y5 65 = (50+60+70+80)/4<br>\n",
    "y6 75 = (60+70+80+90)/4<br>\n",
    "y7 85 = (70+80+90+100)/4<br>\n",
    "Thus, the moving average sequence has n-k+1=10-4+1=7 values."
   ]
  },
  {
   "cell_type": "code",
   "execution_count": 8,
   "metadata": {},
   "outputs": [
    {
     "name": "stdout",
     "output_type": "stream",
     "text": [
      "Moving averages are -\n",
      "25.0\n",
      "35.0\n",
      "45.0\n",
      "55.0\n",
      "65.0\n",
      "75.0\n",
      "85.0\n",
      "Total values in moving average sequence is  7\n"
     ]
    }
   ],
   "source": [
    "import numpy as np\n",
    "\n",
    "#declare and define function\n",
    "def moving_average(arr_input, n) :\n",
    "    asum = np.cumsum(arr_input, dtype=int)    #get cumulative sum of numbers\n",
    "    asum[n:] = asum[n:] - asum[:-n]           #break array based on n & subtract to get result\n",
    "    return asum[n - 1:] / n                   #divide by n to get average\n",
    "\n",
    "#arr creation\n",
    "arr_input = np.array([10,20,30,40,50,60,70,80,90,100])\n",
    "\n",
    "#function call & store the result\n",
    "result = np.array(moving_average(arr_input,4)).round(2)\n",
    "\n",
    "#print values\n",
    "print(\"Moving averages are -\")\n",
    "for i in result:\n",
    "    print(i)\n",
    "    \n",
    "print(\"Total values in moving average sequence is \",(len(result)))"
   ]
  },
  {
   "cell_type": "markdown",
   "metadata": {},
   "source": [
    "<b>Question</b><br>\n",
    "Write a function to find moving average in an array over a window:<br>\n",
    "Test it over [3, 5, 7, 2, 8, 10, 11, 65, 72, 81, 99, 100, 150] and window of 3."
   ]
  },
  {
   "cell_type": "code",
   "execution_count": 9,
   "metadata": {},
   "outputs": [
    {
     "name": "stdout",
     "output_type": "stream",
     "text": [
      "Moving averages are -\n",
      "4.25\n",
      "5.5\n",
      "6.75\n",
      "7.75\n",
      "23.5\n",
      "39.5\n",
      "57.25\n",
      "79.25\n",
      "88.0\n",
      "107.5\n",
      "Total values in moving average sequence is  10\n"
     ]
    }
   ],
   "source": [
    "#arr creation\n",
    "arr_input_2 = np.array([3, 5, 7, 2, 8, 10, 11, 65, 72, 81, 99, 100, 150])\n",
    "\n",
    "#function call & store the result\n",
    "result2 = np.array(moving_average(arr_input_2,4)).round(2)\n",
    "\n",
    "#print values\n",
    "print(\"Moving averages are -\")\n",
    "for i in result2:\n",
    "    print(i)\n",
    "    \n",
    "print(\"Total values in moving average sequence is \",(len(result2)))"
   ]
  }
 ],
 "metadata": {
  "kernelspec": {
   "display_name": "Python 3",
   "language": "python",
   "name": "python3"
  },
  "language_info": {
   "codemirror_mode": {
    "name": "ipython",
    "version": 3
   },
   "file_extension": ".py",
   "mimetype": "text/x-python",
   "name": "python",
   "nbconvert_exporter": "python",
   "pygments_lexer": "ipython3",
   "version": "3.7.6"
  }
 },
 "nbformat": 4,
 "nbformat_minor": 4
}
