{
 "cells": [
  {
   "cell_type": "markdown",
   "metadata": {},
   "source": [
    "<b>Problem Statement 1: </b><br>\n",
    "Write a function to compute 5/0 and use try/except to catch the exceptions."
   ]
  },
  {
   "cell_type": "code",
   "execution_count": 1,
   "metadata": {},
   "outputs": [
    {
     "name": "stdout",
     "output_type": "stream",
     "text": [
      "First Function Call - \n",
      "Your result is : 2.0\n",
      "Second Function Call - \n",
      "Sorry ! You are dividing by zero \n"
     ]
    }
   ],
   "source": [
    "try:\n",
    "    #create function\n",
    "    def operation(numerator,denominator):\n",
    "        try:\n",
    "            print(\"Your result is :\", (numerator/denominator))\n",
    "        except ZeroDivisionError:\n",
    "            print(\"Sorry ! You are dividing by zero \") \n",
    "    \n",
    "    #call the operation function\n",
    "    print(\"First Function Call - \")\n",
    "    operation(10,5)\n",
    "    \n",
    "    print(\"Second Function Call - \")\n",
    "    operation(10,0)\n",
    "\n",
    "except Exception as e:\n",
    "    print(\"Error has occured : \", e)"
   ]
  },
  {
   "cell_type": "markdown",
   "metadata": {},
   "source": [
    "<b>Problem Statement 2: </b><br>\n",
    "Implement a Python program to generate all sentences where subject is in\n",
    "[\"Americans\", \"Indians\"] and verb is in [\"Play\", \"watch\"] and the object is in\n",
    "[\"Baseball\",\"cricket\"].<br>\n",
    "<b>Output should come as below:</b><br>\n",
    "Americans play Baseball.<br>\n",
    "Americans play Cricket.<br>\n",
    "Americans watch Baseball.<br>\n",
    "Americans watch Cricket.<br>\n",
    "Indians play Baseball.<br>\n",
    "Indians play Cricket.<br>\n",
    "Indians watch Baseball.<br>\n",
    "Indians watch Cricket.<br>"
   ]
  },
  {
   "cell_type": "code",
   "execution_count": 2,
   "metadata": {},
   "outputs": [
    {
     "name": "stdout",
     "output_type": "stream",
     "text": [
      "Implementation using For Loops\n",
      "Americans play Baseball\n",
      "Americans play Baseball\n",
      "Americans watch Cricket\n",
      "Americans watch Cricket\n",
      "Indians play Baseball\n",
      "Indians play Baseball\n",
      "Indians watch Cricket\n",
      "Indians watch Cricket\n",
      "------------------------------------------------\n",
      "Implementation using List Comprehension\n",
      "Americans play Baseball\n",
      "Americans play Cricket\n",
      "Americans watch Baseball\n",
      "Americans watch Cricket\n",
      "Indians play Baseball\n",
      "Indians play Cricket\n",
      "Indians watch Baseball\n",
      "Indians watch Cricket\n"
     ]
    }
   ],
   "source": [
    "subjects=[\"Americans\",\"Indians\"]\n",
    "verbs=[\"play\",\"watch\"]\n",
    "objects=[\"Baseball\",\"Cricket\"]\n",
    "    \n",
    "print(\"Implementation using For Loops\")    \n",
    "for i in range(2):\n",
    "    for j in range(2):\n",
    "        for z in range(2):\n",
    "            print(subjects[i] + \" \" + verbs[j] + \" \" + objects[j])\n",
    "\n",
    "\n",
    "print(\"------------------------------------------------\")\n",
    "print(\"Implementation using List Comprehension\")   \n",
    "sentence_list = [(sub+\" \"+ vb + \" \" + ob) for sub in subjects for vb in verbs for ob in objects]\n",
    "for sentence in sentence_list:\n",
    "    print (sentence)"
   ]
  }
 ],
 "metadata": {
  "kernelspec": {
   "display_name": "Python 3",
   "language": "python",
   "name": "python3"
  },
  "language_info": {
   "codemirror_mode": {
    "name": "ipython",
    "version": 3
   },
   "file_extension": ".py",
   "mimetype": "text/x-python",
   "name": "python",
   "nbconvert_exporter": "python",
   "pygments_lexer": "ipython3",
   "version": "3.7.6"
  }
 },
 "nbformat": 4,
 "nbformat_minor": 4
}
