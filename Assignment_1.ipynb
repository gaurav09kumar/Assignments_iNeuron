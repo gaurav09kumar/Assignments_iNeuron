{
 "cells": [
  {
   "cell_type": "markdown",
   "metadata": {},
   "source": [
    "# Assignment 1 - iNeuron"
   ]
  },
  {
   "cell_type": "markdown",
   "metadata": {},
   "source": [
    "<b> Task 1 : </b> <br>\n",
    "<b> Problem Statement 1:</b> <br>\n",
    "Write a program which will find all such numbers which are divisible by 7 but are not a multiple of 5, between 2000 and 3200 (both included). The numbers obtained should be printed in a comma-separated sequence on a single line. <br>\n",
    "<b>Solution:</b>"
   ]
  },
  {
   "cell_type": "code",
   "execution_count": 1,
   "metadata": {},
   "outputs": [
    {
     "name": "stdout",
     "output_type": "stream",
     "text": [
      "2030,2065,2100,2135,2170,2205,2240,2275,2310,2345,2380,2415,2450,2485,2520,2555,2590,2625,2660,2695,2730,2765,2800,2835,2870,2905,2940,2975,3010,3045,3080,3115,3150,3185\n"
     ]
    }
   ],
   "source": [
    "#create a empty list\n",
    "z = []\n",
    "\n",
    "#create a for loop to iterate between the range of numbers\n",
    "for x in range (2000,3200):\n",
    "    if(x%7==0) and (x%5==0):\n",
    "        z.append(str(x));\n",
    "\n",
    "#print the value\n",
    "print (','.join(z));"
   ]
  },
  {
   "cell_type": "markdown",
   "metadata": {},
   "source": [
    "<b> Task 1 : </b> <br>\n",
    "<b> Problem Statement 2:</b> <br>\n",
    "Write a Python program to accept the user's first and last name and then getting them printed in the the reverse order with a space between first name and last name.<br>\n",
    "<b>Solution:</b>"
   ]
  },
  {
   "cell_type": "code",
   "execution_count": 2,
   "metadata": {},
   "outputs": [
    {
     "name": "stdout",
     "output_type": "stream",
     "text": [
      "Enter First Name\n",
      "John\n",
      "Enter Last Name\n",
      "Domninc\n",
      "The reversed order is nhoJ cninmoD\n"
     ]
    }
   ],
   "source": [
    "#create a function that returns reversed string\n",
    "def reverse_string(string_value):\n",
    "    return ''.join(reversed(string_value))\n",
    "\n",
    "print(\"Enter First Name\");\n",
    "x = (reverse_string(input())); #Dynamically take inputs from conosle & pass it to the function\n",
    "\n",
    "print(\"Enter Last Name\");\n",
    "y = (reverse_string(input())); #Dynamically take inputs from conosle & pass it to the function\n",
    "\n",
    "print (\"The reversed order is \"+x +\" \"+ y);"
   ]
  },
  {
   "cell_type": "markdown",
   "metadata": {},
   "source": [
    "<b> Task 1 : </b> <br>\n",
    "<b> Problem Statement 3:</b> <br>\n",
    "Write a Python program to find the volume of a sphere with diameter 12 cm.<br> Formula: V=4/3 * π * r3 <br>\n",
    "<b>Solution:</b>"
   ]
  },
  {
   "cell_type": "code",
   "execution_count": 5,
   "metadata": {},
   "outputs": [
    {
     "name": "stdout",
     "output_type": "stream",
     "text": [
      "The volume of the sphere with diameter 12 is 904.7786842338603\n"
     ]
    }
   ],
   "source": [
    "#import math library\n",
    "import math\n",
    "\n",
    "#store pi value in a variable\n",
    "pi_value = math.pi;\n",
    "\n",
    "diameter = 12;\n",
    "radius = diameter/2;\n",
    "volume = (4/3)*pi_value*(radius**3);\n",
    "\n",
    "print(\"The volume of the sphere with diameter {0} is {1}\".format(diameter, volume));"
   ]
  },
  {
   "cell_type": "markdown",
   "metadata": {},
   "source": [
    "<b> Task 1 : </b> <br>\n",
    "<b> Problem Statement 4:</b> <br>\n",
    "Write a program which accepts a sequence of comma-separated numbers from console and generate a list <br>\n",
    "<b>Solution:</b>"
   ]
  },
  {
   "cell_type": "code",
   "execution_count": 2,
   "metadata": {},
   "outputs": [
    {
     "name": "stdout",
     "output_type": "stream",
     "text": [
      "Enter comma seprated numbers : 5,9,2,3,4,7\n",
      "List :  ['5', '9', '2', '3', '4', '7']\n"
     ]
    }
   ],
   "source": [
    "# take input from console & store in values variable\n",
    "\n",
    "values = input(\"Enter comma seprated numbers : \")\n",
    "\n",
    "#when we take input from console it will be in string data type\n",
    "#so split the values in the string based on comma & store in another varaible\n",
    "\n",
    "list = values.split(\",\")\n",
    "\n",
    "print('List : ',list)"
   ]
  },
  {
   "cell_type": "markdown",
   "metadata": {},
   "source": [
    "<b> Task 1 : </b> <br>\n",
    "<b> Problem Statement 5:</b> <br>\n",
    "Create the below pattern using nested for loop in Python <br>\n",
    "<pre class=\"tab\">\n",
    "*\n",
    "**\n",
    "***\n",
    "****\n",
    "*****\n",
    "****\n",
    "***\n",
    "**\n",
    "*\n",
    "</pre>\n",
    "<b>Solution:</b>"
   ]
  },
  {
   "cell_type": "code",
   "execution_count": 9,
   "metadata": {},
   "outputs": [
    {
     "name": "stdout",
     "output_type": "stream",
     "text": [
      "\n",
      "* \n",
      "* * \n",
      "* * * \n",
      "* * * * \n",
      "* * * * * \n",
      "* * * * \n",
      "* * * \n",
      "* * \n",
      "* \n"
     ]
    }
   ],
   "source": [
    "n=5;\n",
    "for i in range(n):\n",
    "    for j in range(i):\n",
    "        print ('* ', end=\"\")\n",
    "    print('')\n",
    "\n",
    "for i in range(n,0,-1):\n",
    "    for j in range(i):\n",
    "        print('* ', end=\"\")\n",
    "    print('')"
   ]
  },
  {
   "cell_type": "markdown",
   "metadata": {},
   "source": [
    "<b> Task 1 : </b> <br>\n",
    "<b> Problem Statement 6:</b> <br>\n",
    "Write a Python program to reverse a word after accepting the input from the user <br> \n",
    "<b> Sample Output: </b><br> Input word: Ineuron <br> Output: noruen <br>\n",
    "<b>Solution:</b>"
   ]
  },
  {
   "cell_type": "code",
   "execution_count": 4,
   "metadata": {},
   "outputs": [
    {
     "name": "stdout",
     "output_type": "stream",
     "text": [
      "Enter the word which you want to reverse : Coding\n",
      "gnidoC\n"
     ]
    }
   ],
   "source": [
    "# take input from console & store in value variable\n",
    "\n",
    "value = input (\"Enter the word which you want to reverse : \")\n",
    "print(value[::-1])"
   ]
  },
  {
   "cell_type": "markdown",
   "metadata": {},
   "source": [
    "<b> Task 1 : </b> <br>\n",
    "<b> Problem Statement 7:</b> <br>\n",
    "Write a Python Program to print the given string in the format specified in the <b>sample output</b>.<br>\n",
    "WE, THE PEOPLE OF INDIA, having solemnly resolved to constitute India into a SOVEREIGN, SOCIALIST, SECULAR, DEMOCRATIC REPUBLIC and to secure to all its citizens <br> \n",
    "<b> Sample Output: </b><br> <pre class=\"tab\">WE, THE PEOPLE OF INDIA,<br>     having solemnly resolved to constitute India into a SOVEREIGN, ! <br>       SOCIALIST, SECULAR, DEMOCRATIC REPUBLIC<br>         and to secure to all its citizens</pre>\n",
    "<b>Solution:</b>"
   ]
  },
  {
   "cell_type": "code",
   "execution_count": 19,
   "metadata": {},
   "outputs": [
    {
     "name": "stdout",
     "output_type": "stream",
     "text": [
      "WE, THE PEOPLE OF INDIA,\n",
      "\thaving solemnly resolved to constitute India into a SOVEREIGN, !\n",
      "\t\t SOCIALIST, SECULAR, DEMOCRATIC REPUBLIC\n",
      "\t\t\t and to secure to allits citizens \n"
     ]
    }
   ],
   "source": [
    "print(\"WE, THE PEOPLE OF INDIA,\\n\\thaving solemnly resolved to constitute India into a SOVEREIGN, !\\n\\t\\t SOCIALIST, SECULAR, DEMOCRATIC REPUBLIC\\n\\t\\t\\t and to secure to allits citizens \")"
   ]
  }
 ],
 "metadata": {
  "kernelspec": {
   "display_name": "Python 3",
   "language": "python",
   "name": "python3"
  },
  "language_info": {
   "codemirror_mode": {
    "name": "ipython",
    "version": 3
   },
   "file_extension": ".py",
   "mimetype": "text/x-python",
   "name": "python",
   "nbconvert_exporter": "python",
   "pygments_lexer": "ipython3",
   "version": "3.7.6"
  }
 },
 "nbformat": 4,
 "nbformat_minor": 4
}
